{
 "cells": [
  {
   "cell_type": "markdown",
   "metadata": {},
   "source": [
    "Egy 0-1 sorozat (vagy sztring) prefix-normális, ha bármely k-ra az első k\n",
    "eleme között legalább annyi 1-es szerepel, mint bármely másik k egymást követő jegye közt.\n",
    "Pl. az \"110110110\" ilyen, de a az \"11001101\" nem (az utolsó 4 helyen 3 db egyes van, de az\n",
    "elején az első 4-ben csak 2). Írjunk függvényt, mely megadja egy sztringről, hogy prefix-\n",
    "normális-e, és megszámolja, hány darab n hosszú prefix-normális sztring létezik, n = 1, 2, ...,\n",
    "20-ra."
   ]
  },
  {
   "cell_type": "code",
   "execution_count": 2,
   "metadata": {},
   "outputs": [
    {
     "name": "stdout",
     "output_type": "stream",
     "text": [
      "True\n"
     ]
    }
   ],
   "source": [
    "def normal(L):\n",
    "    bool = True\n",
    "    k=1\n",
    "    i=0\n",
    "    while bool and k<=len(L):\n",
    "        while bool and i <= len(L)-k:\n",
    "            bool = sum(int(l) for l in L[0:k]) >= sum(int(l) for l in L[i:i+k])\n",
    "            i+=1\n",
    "        i=0\n",
    "        k+=1\n",
    "    return bool\n",
    "\n",
    "print(normal(\"110110011\"))"
   ]
  },
  {
   "cell_type": "code",
   "execution_count": null,
   "metadata": {},
   "outputs": [],
   "source": []
  }
 ],
 "metadata": {
  "kernelspec": {
   "display_name": "SageMath 9.0",
   "language": "sage",
   "name": "sagemath"
  },
  "language_info": {
   "codemirror_mode": {
    "name": "ipython",
    "version": 3
   },
   "file_extension": ".py",
   "mimetype": "text/x-python",
   "name": "python",
   "nbconvert_exporter": "python",
   "pygments_lexer": "ipython3",
   "version": "3.8.10"
  }
 },
 "nbformat": 4,
 "nbformat_minor": 4
}
