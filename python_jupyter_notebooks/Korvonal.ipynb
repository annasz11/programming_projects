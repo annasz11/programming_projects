{
 "cells": [
  {
   "cell_type": "markdown",
   "metadata": {},
   "source": [
    "Válasszunk ki véletlenszerűen 3 pontot egy körvonalon. Határozzuk meg, hogy egy\n",
    "félköríven belül helyezkednek-e el. Ismételjük meg a kísérletet 100-szor. Végezzük el\n",
    "ugyanezt 3 helyett n ponttal."
   ]
  },
  {
   "cell_type": "code",
   "execution_count": 12,
   "metadata": {},
   "outputs": [
    {
     "name": "stdout",
     "output_type": "stream",
     "text": [
      "Egy félköríven helyezkedik el a random 3 pont.\n"
     ]
    }
   ],
   "source": [
    "import random\n",
    "\n",
    "#input: polárkoordinátás megadás: P(r, phi),r=1, csak szögeket kér be 0-360 fok\n",
    "#min+180 és min között n db elem van e mod 360\n",
    "\n",
    "def vanE(n):\n",
    "    list=[random.uniform(0,360) for l in range(n)]\n",
    "    count=0\n",
    "    for l in list:\n",
    "        if l<=(min(list)+180)%360 and l>=min(list):\n",
    "            count+=1\n",
    "    if count==n:\n",
    "        return(f\"Egy félköríven helyezkedik el a random {n} pont.\")\n",
    "    return(f\"Nem egy félköríven helyezkedik el a random {n} pont.\")\n",
    "\n",
    "print(vanE(3))"
   ]
  },
  {
   "cell_type": "code",
   "execution_count": 13,
   "metadata": {},
   "outputs": [
    {
     "data": {
      "text/plain": [
       "'34 esetben egy félkörön voltak, 66 esetben nem'"
      ]
     },
     "execution_count": 13,
     "metadata": {},
     "output_type": "execute_result"
    }
   ],
   "source": [
    "def szimulacio(n,N): #n=hány pontra, N=hányszor végezzük el\n",
    "    sumV=0\n",
    "    for i in range(N):\n",
    "        if vanE(n)==f\"Egy félköríven helyezkedik el a random {n} pont.\":\n",
    "            sumV+=1\n",
    "    return(f\"{sumV} esetben egy félkörön voltak, {N-sumV} esetben nem\")\n",
    "\n",
    "szimulacio(3,100)"
   ]
  },
  {
   "cell_type": "code",
   "execution_count": null,
   "metadata": {},
   "outputs": [],
   "source": []
  }
 ],
 "metadata": {
  "kernelspec": {
   "display_name": "SageMath 9.0",
   "language": "sage",
   "name": "sagemath"
  },
  "language_info": {
   "codemirror_mode": {
    "name": "ipython",
    "version": 3
   },
   "file_extension": ".py",
   "mimetype": "text/x-python",
   "name": "python",
   "nbconvert_exporter": "python",
   "pygments_lexer": "ipython3",
   "version": "3.8.10"
  }
 },
 "nbformat": 4,
 "nbformat_minor": 4
}
