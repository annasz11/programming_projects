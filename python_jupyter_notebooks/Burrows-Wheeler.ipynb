{
 "cells": [
  {
   "cell_type": "markdown",
   "metadata": {},
   "source": [
    "Burrows-Wheeler transzformáció"
   ]
  },
  {
   "cell_type": "code",
   "execution_count": 6,
   "metadata": {},
   "outputs": [
    {
     "data": {
      "text/plain": [
       "'HELWERRUEWBSO|^R'"
      ]
     },
     "execution_count": 6,
     "metadata": {},
     "output_type": "execute_result"
    }
   ],
   "source": [
    "def transform(s):\n",
    "    n=len(s)\n",
    "    l1=[s[n-i:n]+s[0:n-i] for i in range(n)]\n",
    "    l1 = sorted(l1)\n",
    "    a=l1[0]\n",
    "    l1.remove(l1[0])\n",
    "    l1.insert(len(l1)-1, a)\n",
    "    \n",
    "    ans=''.join([x[n-1] for x in l1])\n",
    "    return ans\n",
    "\n",
    "transform(\"^BURROWSWHEELER|\")"
   ]
  },
  {
   "cell_type": "code",
   "execution_count": 7,
   "metadata": {},
   "outputs": [
    {
     "data": {
      "text/plain": [
       "'BURROWSWHEELER|^'"
      ]
     },
     "execution_count": 7,
     "metadata": {},
     "output_type": "execute_result"
    }
   ],
   "source": [
    "def inverse_transform(s):\n",
    "    l=list(s)\n",
    "    l1=list(s)\n",
    "    for i in range (len(l1)-1):\n",
    "        l2=sorted(l1)\n",
    "        a=l2[0]\n",
    "        l2.remove(l2[0])\n",
    "        l2.insert(len(l2)-1, a)\n",
    "        l1 = list(map(lambda i, j: i + j, l,l2))\n",
    "    l1=sorted(l1)\n",
    "    a=l1[0]\n",
    "    l1.remove(l1[0])\n",
    "    l1.insert(len(l1)-1, a)\n",
    "\n",
    "    return l1[-2]\n",
    "\n",
    "inverse_transform('HELWERRUEWBSO|^R')    "
   ]
  }
 ],
 "metadata": {
  "kernelspec": {
   "display_name": "SageMath 9.0",
   "language": "sage",
   "name": "sagemath"
  },
  "language_info": {
   "codemirror_mode": {
    "name": "ipython",
    "version": 3
   },
   "file_extension": ".py",
   "mimetype": "text/x-python",
   "name": "python",
   "nbconvert_exporter": "python",
   "pygments_lexer": "ipython3",
   "version": "3.8.10"
  }
 },
 "nbformat": 4,
 "nbformat_minor": 4
}
