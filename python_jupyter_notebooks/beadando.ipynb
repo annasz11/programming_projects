{
 "cells": [
  {
   "cell_type": "markdown",
   "id": "ee5fa79b",
   "metadata": {},
   "source": [
    "# Algoritmusok Python nyelven - 1. beadandó feladatsor"
   ]
  },
  {
   "cell_type": "markdown",
   "id": "aa82e1fe",
   "metadata": {},
   "source": [
    "### 1. Írj függvényt, ami egy adott $0<k<9$ egészhez meghatározza a legnagyobb olyan palindróm egész számot, ami előáll két darab pontosan $k$ jegyű egész szám szorzataként. Ha nem létezik ilyen, a visszatérési értéke legyen `None`."
   ]
  },
  {
   "cell_type": "code",
   "execution_count": 1,
   "id": "a59b84d2",
   "metadata": {},
   "outputs": [
    {
     "name": "stdout",
     "output_type": "stream",
     "text": [
      "CPU times: user 7 µs, sys: 0 ns, total: 7 µs\n",
      "Wall time: 12.4 µs\n"
     ]
    }
   ],
   "source": [
    "%%time\n",
    "def legnagyobb_palindrom(k):\n",
    "    low_lim = 10**(k-1)\n",
    "    up_lim = (10**k)-1\n",
    "    legnagyobb = 0\n",
    "    for i in range (up_lim, low_lim, -1):\n",
    "        for j in range(i, low_lim+1, -1):\n",
    "            szorzat=i*j\n",
    "            if (szorzat < legnagyobb):\n",
    "                break\n",
    "            if (str(szorzat) == str(szorzat)[::-1] and szorzat > legnagyobb):\n",
    "                legnagyobb = szorzat            \n",
    "    if legnagyobb == 0:\n",
    "        return None\n",
    "    return legnagyobb\n",
    "\n",
    "#legnagyobb_palindrom(6)"
   ]
  },
  {
   "cell_type": "markdown",
   "id": "e88480c3",
   "metadata": {},
   "source": [
    "### 2. Írj két függvényt, amik megvalósítják adott szöveg [Vigenère-rejtjel](https://hu.wikipedia.org/wiki/Vigen%C3%A8re-rejtjel) szerinti kódolását, illetve dekódolását. Mindkét függvény argumentumai az átalakítandó szöveg és a kulcs legyenek.\n",
    "\n",
    "A feladatban az alábbi ábécét használd, a karakterek itt megadott sorrendjében:"
   ]
  },
  {
   "cell_type": "code",
   "execution_count": 2,
   "id": "163063f3",
   "metadata": {},
   "outputs": [],
   "source": [
    "hun_alphabet = ['a', 'á', 'b', 'c', 'd', 'e', 'é', 'f', 'g', 'h', 'i', 'í', 'j', 'k', 'l', 'm', 'n', 'o', 'ó', 'ö', 'ő', 'p', 'q', 'r', 's', 't', 'u', 'ú', 'ü', 'ű', 'v', 'w', 'x', 'y', 'z', '0', '1', '2', '3', '4', '5', '6', '7', '8', '9', ' ', '!', ',', '-', '.', ':', '?', ';']"
   ]
  },
  {
   "cell_type": "markdown",
   "id": "a4919a57",
   "metadata": {},
   "source": [
    "A kódoló esetén a kapott szöveget először alakítsd át úgy, hogy csak a fenti karakterek maradjanak benne, minden egyéb maradjon ki. A nagybetűket cseréld le a megfelelő kisbetűkre, a sortöréseket, tabulátorokat pedig szóközökre.\n",
    "\n",
    "Mindkét függvény először hozzon létre egy-egy `dictionary`-t, melyben a `key`-ek az ábécé betűiből és a lehetséges kulcsbeli pozíciókból (vagy betűkből) álló kételemű párok, a hozzárendelt `value` pedig minden esetben a megfelelő kódolt, illetve dekódolt karakter legyen. A kódolást és dekódolást aztán ezek felhasználásával végezd."
   ]
  },
  {
   "cell_type": "code",
   "execution_count": 3,
   "id": "2f340b42",
   "metadata": {},
   "outputs": [
    {
     "data": {
      "text/plain": [
       "'pamactinua'"
      ]
     },
     "execution_count": 3,
     "metadata": {},
     "output_type": "execute_result"
    }
   ],
   "source": [
    "import itertools as it\n",
    "hu = hun_alphabet\n",
    "\n",
    "def Vigenere_kodol(szoveg, kulcs):\n",
    "    szoveg=szoveg.replace('\\t',' ')\n",
    "    szoveg=szoveg.replace('\\n',' ')\n",
    "    kulcs=kulcs.replace('\\t',' ')\n",
    "    kulcs=kulcs.replace('\\n',' ') \n",
    "    \n",
    "    szoveg = list(szoveg.lower())\n",
    "    kulcs = list(kulcs.lower())\n",
    "    d={} \n",
    "    parok = it.product(szoveg, kulcs)\n",
    "    for p in parok:\n",
    "        d[p] = hu[hu.index(p[0]) + hu.index(p[1])%len(kulcs)]\n",
    "    titok=''\n",
    "    cnt = 0\n",
    "    for s in szoveg:        \n",
    "        titok += d[(s, kulcs[cnt%len(kulcs)])]\n",
    "        cnt += 1\n",
    "        \n",
    "    return titok\n",
    "    \n",
    "Vigenere_kodol('palacsinta', 'pók')"
   ]
  },
  {
   "cell_type": "code",
   "execution_count": 5,
   "id": "43ea5359",
   "metadata": {},
   "outputs": [
    {
     "data": {
      "text/plain": [
       "'palacsinta'"
      ]
     },
     "execution_count": 5,
     "metadata": {},
     "output_type": "execute_result"
    }
   ],
   "source": [
    "import itertools as it\n",
    "hu = hun_alphabet\n",
    "\n",
    "def Vigenere_dekodol(szoveg, kulcs):\n",
    "    szoveg = list(szoveg.lower())\n",
    "    kulcs = list(kulcs.lower())\n",
    "    d={} \n",
    "    parok = it.product(szoveg, kulcs)\n",
    "    for p in parok:\n",
    "        d[p] = hu[hu.index(p[0]) - hu.index(p[1])%len(kulcs)]\n",
    "    megfejtes=''\n",
    "    cnt = 0\n",
    "    for s in szoveg:        \n",
    "        megfejtes += d[(s, kulcs[cnt%len(kulcs)])]\n",
    "        cnt += 1\n",
    "        \n",
    "    return megfejtes\n",
    " \n",
    "Vigenere_dekodol('pamactinua', 'pók')"
   ]
  },
  {
   "cell_type": "markdown",
   "id": "3484d0b4",
   "metadata": {},
   "source": [
    "### 3. Két játékos, A(lbertina) és B(erzsián) a következő dobókockás játékot játssza: A-nak van $k$ darab $l$ oldalú dobókockája, B-nek pedig $m$ darab $n$ oldalú dobókockája. Egyszerre dobnak a kockáikkal, és összeadják a saját kockáikkal dobott értékeket. Akinél ez a szám nagyobb, az győz. Egyenlőség esetén az eredmény döntetlen.\n",
    "\n",
    "### Írj függvényt, mely $k,l,m,n$ ismeretében lefuttat $N$ darab véletlenszerűsített szimulációt, és kiírja, hogy hányszor győzött A, hányszor B, és hány döntetlen született. Írj még egy függvényt, mely pontosan meghatározza és kiírja a három lehetséges kimenetel valószínűségeit.\n",
    "\n",
    "$l$ és $n$ lehetséges értékei: $2,4,6,10,20$."
   ]
  },
  {
   "cell_type": "code",
   "execution_count": 5,
   "id": "4283447c",
   "metadata": {},
   "outputs": [],
   "source": [
    "import random\n",
    "\n",
    "def kocka_szimulacio(k,l,m,n, N):\n",
    "    A = 0\n",
    "    B = 0\n",
    "    X = 0\n",
    "    for i in range (N):\n",
    "        A_sum = sum(random.randint(1, l) for j in range (k)) \n",
    "        B_sum = sum(random.randint(1, n) for j in range (m))\n",
    "        if A_sum > B_sum:\n",
    "            A += 1\n",
    "        elif B_sum > A_sum:\n",
    "            B += 1\n",
    "        else:\n",
    "            X += 1\n",
    "\n",
    "    return A, B, X\n",
    "\n",
    "#kocka_szimulacio(4, 6, 6, 4 , 10000)"
   ]
  },
  {
   "cell_type": "markdown",
   "id": "d8043caa",
   "metadata": {},
   "source": [
    "### 5. Az alábbi kód az $\\ln$ függvény $1$ középpontú, $deg$ fokszámú Taylor-polinomját felhasználva közelíti $\\ln(x)$ értékét. A kód több szempontból sem tekinthető biztonságosnak, így hibakezelés segítségével oldd meg a következő problémákat.\n",
    "\n",
    "a) Ellenőrizd, és szükség esetén kivétel formájában jelezd, hogy $x$ megfelel-e az értelmezési tartománynak, illetve, hogy a konvergenciahalmaznak eleme-e. Egészítsd ki a függvényt azzal, hogy ha a kiszámolt $v$(alue) értékkel $e^v$ és $x$ távolsága nagyobb, mint $10^{-8}$, akkor `ApproximationError`-t dobjon.\n",
    "\n",
    "b) Írj kódot, ami a felhasználótól bekéri az $x$ lebegőpontos számot és kiírja $\\ln(x)$ értékét. Ha a megadott szám szintaktikailag helytelen, vagy a nem felel meg az értelmezési tartománynak, vagy nem eleme a konvergenciahalmaznak, akkor kérjen be új számot. Ha viszont a szám megfelelő, de `ApproximationError`-t kapunk, akkor addig növeljük a fokszámot a duplájára, amíg a pontosság megfelelő nem lesz."
   ]
  },
  {
   "cell_type": "code",
   "execution_count": 20,
   "id": "a2ce53ba",
   "metadata": {},
   "outputs": [],
   "source": [
    "class Ert_tart_Error(Exception):\n",
    "    pass\n",
    "class Konv_halm_Error(Exception):\n",
    "    pass\n",
    "class ApproximationError(Exception):\n",
    "    pass"
   ]
  },
  {
   "cell_type": "code",
   "execution_count": 21,
   "id": "1f1840be",
   "metadata": {
    "scrolled": false
   },
   "outputs": [],
   "source": [
    "e = 2.7182818284590452353602874713526624977572\n",
    "# 0<x<=2  0>=x: ért tart error, 2>x: konv halmaz error\n",
    "\n",
    "def ln(x, deg = 10):\n",
    "    try:\n",
    "        x = x-1\n",
    "        if x <= -1:\n",
    "            raise Ert_tart_Error()\n",
    "        elif x > 1:\n",
    "            raise Konv_halm_Error()\n",
    "        else:\n",
    "            terms = ((-x)**n / n for n in range(1, deg+1))\n",
    "            value = -sum(terms)\n",
    "            if abs(e**value - x-1) > 10**(-8):\n",
    "                raise ApproximationError()\n",
    "            else:\n",
    "                return value   \n",
    "    except Ert_tart_Error:\n",
    "        print(\"Értelmezési tartomány error: 0 < x \")        \n",
    "    except Konv_halm_Error:\n",
    "        print(\"Konvergencia halmaz error: 0 < x <= 2\")\n",
    "   \n",
    "#ln(1.1,10)"
   ]
  },
  {
   "cell_type": "code",
   "execution_count": 31,
   "id": "b4dcc0ed",
   "metadata": {},
   "outputs": [
    {
     "name": "stdout",
     "output_type": "stream",
     "text": [
      "x: 1.5\n",
      "0.4054651081081568\n"
     ]
    }
   ],
   "source": [
    "result = None\n",
    "deg = 10\n",
    "approx = False\n",
    "\n",
    "while result is None: \n",
    "    try:\n",
    "        x = float(input(\"x: \"))\n",
    "        result = ln(x, deg)\n",
    "        if result != None:\n",
    "            print(result)\n",
    "  \n",
    "    except ValueError:\n",
    "        print(\"ValueError\")\n",
    "        continue\n",
    "    except Ert_tart_Error:\n",
    "        print(\"Értelmezési tartomány error: 0 < x \")   \n",
    "        continue\n",
    "    except Konv_halm_Error:\n",
    "        print(\"Konvergencia halmaz error: 0 < x <= 2\")\n",
    "        continue\n",
    "    except ApproximationError:\n",
    "        while not approx:\n",
    "            try:\n",
    "                deg *= 2\n",
    "                result = ln(x, deg)\n",
    "                approx = True\n",
    "                print(result)\n",
    "            except ApproximationError:\n",
    "                pass\n"
   ]
  },
  {
   "cell_type": "markdown",
   "id": "077cc66f",
   "metadata": {},
   "source": [
    "### 6. Készíts generátorfüggvényt, aminek argumentuma $0\\leq n\\leq 2\\cdot10^4$, és a Pascal-háromszög $n$. sorának értékein iterál végig.\n",
    "\n",
    "### Segítségével valósítsd meg *ciklus használata nélkül*, iterátorokkal az alábbi függvényeket:\n",
    " - az $n$. sor $n$-el osztható elemeinek összege (`int` típusként)\n",
    " - az $n$. sor elemeinek harmonikus közepe (`float` típusként)\n",
    " - $(1+a)^n$ értékének kiszámolása a Binomiális tétellel (`int` típusként)"
   ]
  },
  {
   "cell_type": "code",
   "execution_count": 34,
   "id": "c859e329",
   "metadata": {
    "scrolled": true
   },
   "outputs": [],
   "source": [
    "def Pascal_sor(n):\n",
    "    elem = 1\n",
    "    yield 1\n",
    "    k=1\n",
    "    while k <= n:\n",
    "        elem = (elem*(n+1-k))//(k)\n",
    "        yield elem\n",
    "        k += 1\n",
    "        \n",
    "#for elem in Pascal_sor(4):\n",
    "    #print(elem)"
   ]
  },
  {
   "cell_type": "code",
   "execution_count": 35,
   "id": "577d821a",
   "metadata": {},
   "outputs": [],
   "source": [
    "import itertools as it"
   ]
  },
  {
   "cell_type": "code",
   "execution_count": 36,
   "id": "15f4ec98",
   "metadata": {},
   "outputs": [],
   "source": [
    "def oszthato_osszeg(n):\n",
    "    return int(sum(filter(lambda x: x%n == 0, Pascal_sor(n))))\n",
    "               \n",
    "def harmonikus_kozep(n):\n",
    "    l = list(Pascal_sor(n))\n",
    "    return float(((n+1)*(sum(map(lambda x: 1/x , l))) **(-1)))\n",
    "             \n",
    "def binom_tetel(a,n):\n",
    "    eh_l = Pascal_sor(n)\n",
    "    return int(sum(map(lambda x: next(eh_l)*a**x, range(n+1))))"
   ]
  },
  {
   "cell_type": "code",
   "execution_count": 39,
   "id": "865739f8",
   "metadata": {},
   "outputs": [
    {
     "name": "stdout",
     "output_type": "stream",
     "text": [
      "30\n",
      "49.989681649311486\n",
      "256\n"
     ]
    }
   ],
   "source": [
    "print(oszthato_osszeg(5))\n",
    "print(harmonikus_kozep(100))\n",
    "print(binom_tetel(3,4))"
   ]
  },
  {
   "cell_type": "markdown",
   "id": "57b77152",
   "metadata": {},
   "source": [
    "### 7. Valósítsd meg osztályok segítségével az alábbi egyszerű játékot.\n",
    "\n",
    "a) Készíts egy `játékos` osztályt. Az osztály egy egyedének létrehozásakor be lehessen állítani attribútumként annak `nevét`, `életerejét` és `sebzését`. Legyen továbbá az osztálynak egy `mozgás` metódusa, mely a `fel, le, jobbra, balra` irányok valamelyikét, vagy a `marad` utasítást adja vissza, véletlenszerűen. Valósítsd meg a stringgé konvertálás metódusát is, mely áttekinthető formában kiírja a három attribútumot.\n",
    "\n",
    "b) Hozz létre egy `játék` osztályt is. Létrehozásakor kapja meg játékosok egy listáját, és a játéktér méretét (sorainak és oszlopainak számát). Szintén létrehozáskor helyezze el a játékosokat valamilyen módon (szabadon megválaszthatod) a játéktér *különböző* mezőin. \n",
    "A játékosok egyesével sorra kapnak majd lehetőséget, hogy léphessenek, ezért egyrészt tartsa nyilván egy attribútumban a játék, hogy éppen ki következik. Másrészt legyen egy `léptető` metódusa, mely a következő játékos `mozgás` metódusát hívja meg, majd a visszakapott érték alapján végrehajtja a mozgást. Ha a lépést nem lehet végrehajtani, mert a játéktér falának ütközik, vagy a célmezőn már van játékos, akkor helyben marad. Továbbá utóbbi esetben mindkét érintett játékos (a célmezőn lévő és a mozgást végezni akaró) életerejét csökkenteni kell a másik sebzésével. Ezután mindenkit, akinek az életereje nem pozitív, ki kell törölni a játékból. Végül legyen a `játék`nak egy `indító` metódusa, mely ciklikusan addig lépteti sorra a játékosokat, amíg végül pontosan 1 vagy 0 marad életben. Ekkor kiírja, hogy ki a győztes, vagy hogy senki sem győzött.\n",
    "\n",
    "c) Származtass a `játékos` osztályból egy `robot` osztályt. Az osztály egyedeinek a neve legyen `Terminator-XXXX`, ahol `XXXX` négy véletlenszerű számjegy; az életerő legyen 100 a sebzés pedig 10. Származtass egy `ember` osztályt is, mely létrehozáskor kérjen be a felhasználótól egy nevet; az életerő legyen 50 a sebzés pedig 30. Definiáld felül a `mozgás` metódust, hogy a felhasználótól kérje be a mozgás irányát (pl egyetlen karakterként, hogy ne kelljen sokat gépelni). Módosítsd a `játék` osztályt, hogy amikor emberi játékos következik, akkor írja ki szemléletesen a játék helyzetét, mielőtt bekéri a következő lépését.\n",
    "\n",
    "Pontozás: legfeljebb 1+2+1 pont szerezhető"
   ]
  },
  {
   "cell_type": "code",
   "execution_count": 10,
   "id": "326027c7",
   "metadata": {},
   "outputs": [],
   "source": [
    "import random\n",
    "\n",
    "class jatekos:\n",
    "    def __init__(self, nev, eletero, sebzes):\n",
    "        self.nev = nev\n",
    "        self.eletero = eletero\n",
    "        self.sebzes = sebzes\n",
    "        self.hely = (0,0)\n",
    "        \n",
    "    def __str__(self):\n",
    "        return \"Név: {0}, Életerő: {1}, Sebzés: {2}, Hely: {3}\".format(self.nev, self.eletero, self.sebzes, self.hely)\n",
    "    \n",
    "    def mozgas(self):\n",
    "        move=[(\"fel\", (-1,0)), (\"le\",(1,0)), (\"jobbra\",(0,1)), (\"balra\",(0,-1)), (\"marad\",(0,0))]\n",
    "        return random.choice(move)"
   ]
  },
  {
   "cell_type": "code",
   "execution_count": 17,
   "id": "0ed6d542",
   "metadata": {},
   "outputs": [],
   "source": [
    "class ember(jatekos):\n",
    "    def __init__(self):\n",
    "        self.nev = input(\"Név: \")\n",
    "        self.eletero = 50\n",
    "        self.sebzes = 30\n",
    "        \n",
    "    def mozgas(self):\n",
    "        irany = input(\"Merre lépsz: l, f, j, b, m \")\n",
    "        if irany == \"l\":\n",
    "            return (\"l\", (1,0))\n",
    "        if irany == \"f\":\n",
    "            return (\"f\", (-1,0))\n",
    "        if irany == \"j\":\n",
    "            return (\"j\", (0,1))\n",
    "        if irany == \"b\":\n",
    "            return (\"b\", (0,-1))\n",
    "        if irany == \"m\":\n",
    "            return (\"m\", (0,0))"
   ]
  },
  {
   "cell_type": "code",
   "execution_count": 18,
   "id": "3268a91d",
   "metadata": {},
   "outputs": [],
   "source": [
    "class robot(jatekos):\n",
    "    def __init__(self):\n",
    "        self.nev = \"Terminator-\" + str(random.randint(1000, 9999))\n",
    "        self.eletero = 100\n",
    "        self.sebzes = 10"
   ]
  },
  {
   "cell_type": "code",
   "execution_count": 19,
   "id": "f0be4b2a",
   "metadata": {},
   "outputs": [],
   "source": [
    "def tuple_osszead(a,b):\n",
    "    return (a[0]+b[0] , a[1]+b[1] )"
   ]
  },
  {
   "cell_type": "code",
   "execution_count": 20,
   "id": "c187603d",
   "metadata": {},
   "outputs": [],
   "source": [
    "import itertools as it\n",
    "import random\n",
    "\n",
    "class jatek:\n",
    "    def __init__(self, jatekosok, sor, oszlop):\n",
    "        self.jatekosok = jatekosok                   \n",
    "        self.sor=sor\n",
    "        self.oszlop=oszlop\n",
    "        self.kovi = 0\n",
    "        mezok = [i for i in it.product(range(sor), range(oszlop))]\n",
    "        foglalt = random.sample(mezok, len(self.jatekosok))\n",
    "        for i in range (len(self.jatekosok)):\n",
    "            self.jatekosok[i].hely = foglalt[i]\n",
    "            \n",
    "\n",
    "    def __str__(self):\n",
    "        superstring = \"\"\n",
    "        for i in self.jatekosok:\n",
    "            superstring +=str(i)+\"\\n\" \n",
    "        print(superstring)\n",
    "    \n",
    "      \n",
    "    def lepteto(self):\n",
    "        q = tuple_osszead(self.jatekosok[self.kovi].hely, self.jatekosok[self.kovi].mozgas()[1])\n",
    "        if q[0]<0 or q[1]<0 or q[0]>=self.sor or q[1]>=self.oszlop:\n",
    "            self.kovi += 1\n",
    "            if len(self.jatekosok) != 0:\n",
    "                self.kovi = self.kovi%len(self.jatekosok)\n",
    "            return\n",
    "        for i in self.jatekosok:\n",
    "            if i.hely == q and i != self.jatekosok[self.kovi]:\n",
    "                i.eletero -= self.jatekosok[self.kovi].sebzes\n",
    "                self.jatekosok[self.kovi].eletero -= i.sebzes\n",
    "                if self.jatekosok[self.kovi].eletero <= 0:\n",
    "                    self.jatekosok.remove(self.jatekosok[self.kovi])\n",
    "                if i.eletero <= 0:\n",
    "                    self.jatekosok.remove(i)\n",
    "                self.kovi += 1\n",
    "                if len(self.jatekosok) != 0:\n",
    "                    self.kovi = self.kovi%len(self.jatekosok)\n",
    "                return\n",
    "        self.jatekosok[self.kovi].hely = q\n",
    "        self.kovi += 1\n",
    "        if len(self.jatekosok) != 0:\n",
    "            self.kovi = self.kovi%len(self.jatekosok)\n",
    "        \n",
    "    def indito(self):\n",
    "        while len(self.jatekosok) > 1:\n",
    "            if type(self.jatekosok[self.kovi])==ember:\n",
    "                for i in self.jatekosok:\n",
    "                    print(i)\n",
    "                print(f\"\\n{self.jatekosok[self.kovi].nev} jön\")\n",
    "            self.lepteto()\n",
    "        if len(self.jatekosok) == 1:\n",
    "            print(f\"{self.jatekosok[0].nev} győzött\")\n",
    "        else:\n",
    "            print(\"Senki sem győzött.\")"
   ]
  },
  {
   "cell_type": "code",
   "execution_count": 21,
   "id": "0f06474d",
   "metadata": {},
   "outputs": [
    {
     "name": "stdout",
     "output_type": "stream",
     "text": [
      "a győzött\n"
     ]
    }
   ],
   "source": [
    "proba = jatek([jatekos('a',7, 2), jatekos('b', 4, 2)], 2,2)\n",
    "proba.indito()"
   ]
  },
  {
   "cell_type": "code",
   "execution_count": 22,
   "id": "d1712baf",
   "metadata": {},
   "outputs": [
    {
     "name": "stdout",
     "output_type": "stream",
     "text": [
      "Név: a\n",
      "Név: b\n",
      "Név: a, Életerő: 50, Sebzés: 30, Hely: (1, 1)\n",
      "Név: b, Életerő: 50, Sebzés: 30, Hely: (1, 0)\n",
      "Név: Terminator-9755, Életerő: 100, Sebzés: 10, Hely: (0, 0)\n",
      "\n",
      "a jön\n",
      "Merre lépsz: l, f, j, b, m l\n",
      "Név: a, Életerő: 50, Sebzés: 30, Hely: (1, 1)\n",
      "Név: b, Életerő: 50, Sebzés: 30, Hely: (1, 0)\n",
      "Név: Terminator-9755, Életerő: 100, Sebzés: 10, Hely: (0, 0)\n",
      "\n",
      "b jön\n",
      "Merre lépsz: l, f, j, b, m j\n",
      "Név: a, Életerő: 20, Sebzés: 30, Hely: (1, 1)\n",
      "Név: b, Életerő: 10, Sebzés: 30, Hely: (1, 0)\n",
      "Név: Terminator-9755, Életerő: 70, Sebzés: 10, Hely: (0, 0)\n",
      "\n",
      "a jön\n",
      "Merre lépsz: l, f, j, b, m b\n",
      "Terminator-9755 győzött\n"
     ]
    }
   ],
   "source": [
    "a = ember()\n",
    "b = ember()\n",
    "r = robot()\n",
    "\n",
    "proba2 = jatek([a,b,r],2,2) \n",
    "proba2.indito()"
   ]
  },
  {
   "cell_type": "code",
   "execution_count": null,
   "id": "38d32ce4",
   "metadata": {},
   "outputs": [],
   "source": []
  }
 ],
 "metadata": {
  "kernelspec": {
   "display_name": "Python 3",
   "language": "python",
   "name": "python3"
  },
  "language_info": {
   "codemirror_mode": {
    "name": "ipython",
    "version": 3
   },
   "file_extension": ".py",
   "mimetype": "text/x-python",
   "name": "python",
   "nbconvert_exporter": "python",
   "pygments_lexer": "ipython3",
   "version": "3.8.10"
  }
 },
 "nbformat": 4,
 "nbformat_minor": 5
}
